{
  "nbformat": 4,
  "nbformat_minor": 0,
  "metadata": {
    "kernelspec": {
      "display_name": "Python 3",
      "language": "python",
      "name": "python3"
    },
    "language_info": {
      "codemirror_mode": {
        "name": "ipython",
        "version": 3
      },
      "file_extension": ".py",
      "mimetype": "text/x-python",
      "name": "python",
      "nbconvert_exporter": "python",
      "pygments_lexer": "ipython3",
      "version": "3.6.6"
    },
    "colab": {
      "name": "BERT.ipynb",
      "provenance": [],
      "collapsed_sections": []
    },
    "accelerator": "GPU"
  },
  "cells": [
    {
      "cell_type": "markdown",
      "metadata": {
        "id": "g8yZUsdyuh5k"
      },
      "source": [
        "# **BERT - Enfin un tutoriel simple et rapide !** - [lire l'article](https://inside-machinelearning.com/bert-enfin-un-tutoriel-simple-et-rapide/)\n",
        "\n",
        "[Read the post in English](https://inside-machinelearning.com/en/bert-the-perfect-tutorial-to-easily-use-it/)"
      ]
    },
    {
      "cell_type": "markdown",
      "metadata": {
        "id": "RJjwi1MoAZPv"
      },
      "source": [
        "Aujourd'hui, nous allons voir avec ce tutoriel comment **implémenter simplement et rapidement le Transformer BERT**.\n",
        "\n",
        "BERT est **un modèle de Deep Learning** lancé fin 2019 par **Google**. C'est un **Transformer**, un type bien spécifique de **réseaux de neurones**. D'ailleurs BERT signifie \"*Bidirectional Encoder Representations from Transformers*\" littéralement \"*Représentations d'encodeurs bidirectionnels à partir de transformateurs*\".\n",
        "\n",
        "Mais dans ce article nous n'allons pas voir en détails ce qu'est un Transformer... je vous propose plutôt de voir **comment implémenter, entraîner et utiliser facilement BERT !**\n",
        "\n",
        "Pour cela on va prendre **un problème classique de NLP** que vous connaissez sûrement : **la classification de critiques de cinéma**.\n",
        "\n",
        "Notre modèle de Deep Learning va pouvoir **lire une critique** puis **comprendre si elle est positive ou négative**.\n",
        "\n",
        "C'est d'ailleurs ce qu'on a déjà fait dans [cet article](https://inside-machinelearning.com/un-modele-classification-binaire-en-nlp/) avec **un modèle de Deep Learning plus basique**... maintenant **on passe à l'étape supérieur** en le faisant avec **BERT !**"
      ]
    },
    {
      "cell_type": "markdown",
      "metadata": {
        "id": "O70GGjsvzixG"
      },
      "source": [
        "# **Préparer les données**"
      ]
    },
    {
      "cell_type": "markdown",
      "metadata": {
        "id": "3Hyeexe-3y0x"
      },
      "source": [
        "## **Charger le modèle et les données**"
      ]
    },
    {
      "cell_type": "markdown",
      "metadata": {
        "id": "dCOgnlu83fxl"
      },
      "source": [
        "**Tout d'abord**, nous allons utiliser **la librairie** *tensorflow_hub*.\n",
        "\n",
        "C'est une librairie qui permet **d'accéder à des modèles disponible** sur [TensorFlow Hub](https://tfhub.dev).\n",
        "\n",
        "En fait, **TensorFlow Hub** est un site répertoriant **des modèles officiels de Machine Learning préentraînés** aussi bien dans le domaine du **NLP** mais pour **la Vision par ordinateur** et bien d'autres.\n",
        "\n",
        "On va donc utiliser *tensorflow_hub* pour charger **BERT**. Différent type de BERT existe, on va prendre **le plus léger** \"*bert_en_uncased_L-12_H-768_A-12*\" pour que l'exécution se fasse **rapidement !**"
      ]
    },
    {
      "cell_type": "code",
      "metadata": {
        "id": "-vmu_Xv81aMX"
      },
      "source": [
        "import tensorflow_hub as hub\n",
        "\n",
        "module_url = \"https://tfhub.dev/tensorflow/bert_en_uncased_L-12_H-768_A-12/1\"\n",
        "#module_url = \"https://tfhub.dev/tensorflow/bert_en_uncased_L-24_H-1024_A-16/1\"\n",
        "\n",
        "bert_layer = hub.KerasLayer(module_url, trainable=True)"
      ],
      "execution_count": null,
      "outputs": []
    },
    {
      "cell_type": "markdown",
      "metadata": {
        "id": "t-AJ3Nvj1aMY"
      },
      "source": [
        "On charge ensuite **nos données** qui sont disponibles sur ce [Github](https://github.com/tkeldenich/BERT_Easy_Implementation) :"
      ]
    },
    {
      "cell_type": "code",
      "metadata": {
        "id": "aEsIYDQR2o8z"
      },
      "source": [
        "!git clone https://github.com/tkeldenich/BERT_Easy_Implementation &> /dev/null"
      ],
      "execution_count": null,
      "outputs": []
    },
    {
      "cell_type": "code",
      "metadata": {
        "id": "RVby4Lvc1aMZ"
      },
      "source": [
        "import pandas as pd\n",
        "\n",
        "train = pd.read_csv(\"/content/BERT_Easy_Implementation/data/train.csv\")\n",
        "test = pd.read_csv(\"/content/BERT_Easy_Implementation/data/test.csv\")"
      ],
      "execution_count": null,
      "outputs": []
    },
    {
      "cell_type": "code",
      "metadata": {
        "colab": {
          "base_uri": "https://localhost:8080/",
          "height": 142
        },
        "id": "v7IGxLeWlQvK",
        "outputId": "a53e3afe-8416-43d9-b962-a3d93f1e5f5b"
      },
      "source": [
        "train.head(3)"
      ],
      "execution_count": null,
      "outputs": [
        {
          "output_type": "execute_result",
          "data": {
            "text/html": [
              "<div>\n",
              "<style scoped>\n",
              "    .dataframe tbody tr th:only-of-type {\n",
              "        vertical-align: middle;\n",
              "    }\n",
              "\n",
              "    .dataframe tbody tr th {\n",
              "        vertical-align: top;\n",
              "    }\n",
              "\n",
              "    .dataframe thead th {\n",
              "        text-align: right;\n",
              "    }\n",
              "</style>\n",
              "<table border=\"1\" class=\"dataframe\">\n",
              "  <thead>\n",
              "    <tr style=\"text-align: right;\">\n",
              "      <th></th>\n",
              "      <th>text</th>\n",
              "      <th>label</th>\n",
              "    </tr>\n",
              "  </thead>\n",
              "  <tbody>\n",
              "    <tr>\n",
              "      <th>0</th>\n",
              "      <td>Now, I won't deny that when I purchased this o...</td>\n",
              "      <td>0</td>\n",
              "    </tr>\n",
              "    <tr>\n",
              "      <th>1</th>\n",
              "      <td>The saddest thing about this \"tribute\" is that...</td>\n",
              "      <td>0</td>\n",
              "    </tr>\n",
              "    <tr>\n",
              "      <th>2</th>\n",
              "      <td>Last night I decided to watch the prequel or s...</td>\n",
              "      <td>0</td>\n",
              "    </tr>\n",
              "  </tbody>\n",
              "</table>\n",
              "</div>"
            ],
            "text/plain": [
              "                                                text  label\n",
              "0  Now, I won't deny that when I purchased this o...      0\n",
              "1  The saddest thing about this \"tribute\" is that...      0\n",
              "2  Last night I decided to watch the prequel or s...      0"
            ]
          },
          "metadata": {
            "tags": []
          },
          "execution_count": 4
        }
      ]
    },
    {
      "cell_type": "markdown",
      "metadata": {
        "id": "9xa6QdXS6iDY"
      },
      "source": [
        "Une fois qu'on a **notre modèle BERT et nos données**, on charge **un composant essentiel** pour l'entraînement.\n",
        "\n",
        "Comme vous le savez, pour faire du NLP il faut faire du **preprocessing**.\n",
        "\n",
        "Eh bien pour BERT, **c'est la même chose !**\n",
        "\n",
        "**Google** nous a d'ailleurs mis à dispositon leur algorithme de **tokenization** (qui permet de séparer une phrase en liste de mot) **spécifique à BERT**. Nous allons donc le charger :"
      ]
    },
    {
      "cell_type": "code",
      "metadata": {
        "_cell_guid": "79c7e3d0-c299-4dcb-8224-4455121ee9b0",
        "_kg_hide-output": true,
        "_uuid": "d629ff2d2480ee46fbb7e2d37f6b5fab8052498a",
        "id": "Ly-64WrA1aMR"
      },
      "source": [
        "!wget --quiet https://raw.githubusercontent.com/tensorflow/models/master/official/nlp/bert/tokenization.py"
      ],
      "execution_count": null,
      "outputs": []
    },
    {
      "cell_type": "markdown",
      "metadata": {
        "id": "mXPQdCwe7bFS"
      },
      "source": [
        "Cet algorithme nécessite l'installation de la librairie *sentencepiece* :"
      ]
    },
    {
      "cell_type": "code",
      "metadata": {
        "id": "WmplqE5Y-Z60"
      },
      "source": [
        "!pip install sentencepiece &> /dev/null"
      ],
      "execution_count": null,
      "outputs": []
    },
    {
      "cell_type": "markdown",
      "metadata": {
        "id": "qXMR-hON70Xw"
      },
      "source": [
        "On peut ensuite construire notre **encodeur qui est vraiment spécifique à BERT**.\n",
        "\n",
        "Habituellement, une phrase est encodé en **liste de chiffre** où chacun de ces chiffres représente un mot ou bien elle est **one-hot encoded** comme expliqué dans [cet article](https://inside-machinelearning.com/preprocessing-nlp-tutoriel-pour-nettoyer-rapidement-un-texte/)...\n",
        "\n",
        "Ici, c'est **tout à fait différent !**"
      ]
    },
    {
      "cell_type": "markdown",
      "metadata": {
        "id": "JS_ASQnv4AB3"
      },
      "source": [
        "## **Preprocessing des données**"
      ]
    },
    {
      "cell_type": "markdown",
      "metadata": {
        "id": "YgDublSI4A6-"
      },
      "source": [
        "En fait, BERT ne prend pas une liste de chiffres en entré, **il en prend trois**. Oui vous avez bien entendu... il faut **trois liste de chiffres pour entraîner BERT** et c'est ça qui le rend si puissant !\n",
        "\n",
        "Mais **que représente ces trois listes ?**\n",
        "\n",
        "Eh bien c'est très simple il y a **trois listes** pour **trois encodages** :\n",
        "- **tokens**, Encodage hiérarchique classique, un mot = un chiffre\n",
        "- **pad_masks**, Embedding de position pour exprimer l'emplacement des mots dans une phrase.\n",
        "- **segment_ids**, Embeddings de segments : BERT peut également prendre des paires de phrases comme entrées pour des tâches, notamment pour des modèle de Question-Réponse, ce ne sera pas notre cas ici, cette liste sera donc rempli de zéros\n",
        "\n",
        "On peut ainsi **coder la fonction** d'encodage pour BERT :"
      ]
    },
    {
      "cell_type": "code",
      "metadata": {
        "id": "QSioWlu11aMU"
      },
      "source": [
        "import tokenization\n",
        "import numpy as np\n",
        "\n",
        "def bert_encode(texts, tokenizer, max_len=512):\n",
        "    all_tokens = []\n",
        "    all_masks = []\n",
        "    all_segments = []\n",
        "    \n",
        "    for text in texts:\n",
        "        text = tokenizer.tokenize(text)\n",
        "            \n",
        "        text = text[:max_len-2]\n",
        "        input_sequence = [\"[CLS]\"] + text + [\"[SEP]\"]\n",
        "        pad_len = max_len - len(input_sequence)\n",
        "        \n",
        "        tokens = tokenizer.convert_tokens_to_ids(input_sequence)\n",
        "        tokens += [0] * pad_len\n",
        "        pad_masks = [1] * len(input_sequence) + [0] * pad_len\n",
        "        segment_ids = [0] * max_len\n",
        "        \n",
        "        all_tokens.append(tokens)\n",
        "        all_masks.append(pad_masks)\n",
        "        all_segments.append(segment_ids)\n",
        "    \n",
        "    return np.array(all_tokens), np.array(all_masks), np.array(all_segments)"
      ],
      "execution_count": null,
      "outputs": []
    },
    {
      "cell_type": "markdown",
      "metadata": {
        "id": "BsJHH043HkQ2"
      },
      "source": [
        "On **initialise le tokenizer** en allant chercher dans le modèle BERT à la fois **la liste de vocabulaire** et leur **index / chiffre associé** et la fonction pour passer les mots en lettres majuscules en minuscules."
      ]
    },
    {
      "cell_type": "code",
      "metadata": {
        "id": "F84uwvR91aMc"
      },
      "source": [
        "vocab_file = bert_layer.resolved_object.vocab_file.asset_path.numpy()\n",
        "do_lower_case = bert_layer.resolved_object.do_lower_case.numpy()\n",
        "tokenizer = tokenization.FullTokenizer(vocab_file, do_lower_case)"
      ],
      "execution_count": null,
      "outputs": []
    },
    {
      "cell_type": "markdown",
      "metadata": {
        "id": "V2ryc9Cv1aMc"
      },
      "source": [
        "Finalement **pour chaque csv** (train et test) on créer **deux variables** contenant :\n",
        "- **les phrases encodées** pour BERT\n",
        "- **les labels** sur lesquel BERT doit s'entraîner / prédire"
      ]
    },
    {
      "cell_type": "code",
      "metadata": {
        "id": "OGQ8h9tXh_Af"
      },
      "source": [
        "#Pour raccourcir le temps d'entraînement :\n",
        "#train = train[:15000]\n",
        "#test = test[:5000]"
      ],
      "execution_count": null,
      "outputs": []
    },
    {
      "cell_type": "code",
      "metadata": {
        "id": "NH792H3S1aMd"
      },
      "source": [
        "train_input = bert_encode(train.text.values, tokenizer, max_len=100)\n",
        "test_input = bert_encode(test.text.values, tokenizer, max_len=100)\n",
        "train_labels = train.label.values\n",
        "test_labels = test.label.values"
      ],
      "execution_count": null,
      "outputs": []
    },
    {
      "cell_type": "markdown",
      "metadata": {
        "id": "5tjLBwFszqkN"
      },
      "source": [
        "# **BERT & le Transfer Learning**"
      ]
    },
    {
      "cell_type": "markdown",
      "metadata": {
        "id": "f1xnLHtM4QS8"
      },
      "source": [
        "## **Initialiser BERT**"
      ]
    },
    {
      "cell_type": "markdown",
      "metadata": {
        "id": "H4TDzSX_X_RO"
      },
      "source": [
        "Nos données sont prêtes, il nous faut maintenant **construire notre modèle**.\n",
        "\n",
        "Avec **TensorFlow Hub**, nous avons déjà **préchargé BERT** mais il reste **quelques ajouts à faire**.\n",
        "\n",
        "Effectivement, **le modèle BERT** que nous avons n'est pas complet. Nous avons seulement **des couches de neurones et leurs poids préentraînés associés**.\n",
        "\n",
        "Il faut que l'on ajoute deux choses :\n",
        "- **les couches d'entrées** : une pour chaque liste, donc trois couches\n",
        "- **la couche de sortie** : on fait de la classisification binaire donc une seule couche\n",
        "\n",
        "C'est ce que l'on fait dans **cette fonction** :"
      ]
    },
    {
      "cell_type": "code",
      "metadata": {
        "id": "UUY1X7QQ1aMV"
      },
      "source": [
        "import tensorflow as tf\n",
        "from tensorflow.keras.layers import Dense, Input\n",
        "from tensorflow.keras.optimizers import Adam\n",
        "from tensorflow.keras.models import Model\n",
        "from tensorflow.keras.callbacks import ModelCheckpoint\n",
        "\n",
        "def build_model(bert_layer, max_len=512):\n",
        "    input_word_ids = Input(shape=(max_len,), dtype=tf.int32, name=\"input_word_ids\")\n",
        "    input_mask = Input(shape=(max_len,), dtype=tf.int32, name=\"input_mask\")\n",
        "    segment_ids = Input(shape=(max_len,), dtype=tf.int32, name=\"segment_ids\")\n",
        "\n",
        "    _, sequence_output = bert_layer([input_word_ids, input_mask, segment_ids])\n",
        "    clf_output = sequence_output[:, 0, :]\n",
        "    out = Dense(1, activation='sigmoid')(clf_output)\n",
        "    \n",
        "    model = Model(inputs=[input_word_ids, input_mask, segment_ids], outputs=out)\n",
        "    model.compile(Adam(lr=2e-6), loss='binary_crossentropy', metrics=['accuracy'])\n",
        "    \n",
        "    return model"
      ],
      "execution_count": null,
      "outputs": []
    },
    {
      "cell_type": "markdown",
      "metadata": {
        "id": "n0rx_Bw6bbrQ"
      },
      "source": [
        "Une fois coder, **cette fonction** nous permet de **construire notre modèle** :"
      ]
    },
    {
      "cell_type": "code",
      "metadata": {
        "id": "GkPKaey5baiM"
      },
      "source": [
        "model = build_model(bert_layer, max_len=100)"
      ],
      "execution_count": null,
      "outputs": []
    },
    {
      "cell_type": "markdown",
      "metadata": {
        "id": "qAeHsETy1aMd"
      },
      "source": [
        "**Pour bien comprendre** ce que l'on vient de faire, **affichons notre réseau de neurones** :"
      ]
    },
    {
      "cell_type": "code",
      "metadata": {
        "colab": {
          "base_uri": "https://localhost:8080/",
          "height": 442
        },
        "id": "QW3POTDrZxEc",
        "outputId": "48768f0d-ed38-427e-baea-80211c990aba"
      },
      "source": [
        "from keras.utils.vis_utils import plot_model\n",
        "\n",
        "plot_model(model, to_file='model_plot.png', show_shapes=True, show_layer_names=True)"
      ],
      "execution_count": null,
      "outputs": [
        {
          "output_type": "execute_result",
          "data": {
            "image/png": "[encoded data removed]",
            "text/plain": [
              "<IPython.core.display.Image object>"
            ]
          },
          "metadata": {
            "tags": []
          },
          "execution_count": 13
        }
      ]
    },
    {
      "cell_type": "markdown",
      "metadata": {
        "id": "pzWGYWPJa9GA"
      },
      "source": [
        "On a bien **un modèle à trois entrées** qui se rejoignent pour former **réseau de couches uniques**.\n",
        "\n",
        "Le modèle peut sembler simple de prime abord mais il faut bien comprendre que dans la **couche KerasLayer** (la couche de BERT) il y a en fait **plusieurs autres couches**.\n",
        "\n",
        "Elle ne sont **pas visible** ici car elles sont chargé depuis **TensorFlow Hub** mais le nom du modèle parle de lui même : \"*bert_en_uncased_L-12_H-768_A-12*\"\n",
        "\n",
        "- **L-12** : 12 couches caché (12 Layers)\n",
        "- **H-768** : une \"taille caché\" de 768, en fait 768 neurones (768 Hidden size)\n",
        "- **A-12** : 12 module d'Attention, ces modules servent à faire des calcules en parallèles (12 attention head)\n",
        "\n",
        "De plus on a **en_uncase**, cela veut dire que le texte a été mis en minuscules pendant **le preprocessing**.\n",
        "\n",
        "Nous irons plus amplement dans le détail dans **un prochain article sur BERT et les transformers**.\n",
        "\n",
        "En attendant, **entraînons notre modèle !**"
      ]
    },
    {
      "cell_type": "markdown",
      "metadata": {
        "id": "HnK3cEU54gFV"
      },
      "source": [
        "## **Transfer Learning**"
      ]
    },
    {
      "cell_type": "code",
      "metadata": {
        "id": "ouxz8O5K1aMf",
        "colab": {
          "base_uri": "https://localhost:8080/"
        },
        "outputId": "94336c4d-f266-4ec8-e00a-9b523e8ccfbc"
      },
      "source": [
        "train_history = model.fit(\n",
        "    train_input, train_labels,\n",
        "    validation_split=0.2,\n",
        "    epochs=5,\n",
        "    batch_size=32\n",
        ")"
      ],
      "execution_count": null,
      "outputs": [
        {
          "output_type": "stream",
          "text": [
            "Epoch 1/5\n",
            "375/375 [==============================] - 267s 671ms/step - loss: 0.6241 - accuracy: 0.6751 - val_loss: 0.3952 - val_accuracy: 0.8187\n",
            "Epoch 2/5\n",
            "375/375 [==============================] - 252s 673ms/step - loss: 0.3396 - accuracy: 0.8490 - val_loss: 0.3418 - val_accuracy: 0.8540\n",
            "Epoch 3/5\n",
            "375/375 [==============================] - 252s 673ms/step - loss: 0.2687 - accuracy: 0.8870 - val_loss: 0.3324 - val_accuracy: 0.8603\n",
            "Epoch 4/5\n",
            "375/375 [==============================] - 252s 672ms/step - loss: 0.2090 - accuracy: 0.9236 - val_loss: 0.3545 - val_accuracy: 0.8510\n",
            "Epoch 5/5\n",
            "375/375 [==============================] - 252s 671ms/step - loss: 0.1628 - accuracy: 0.9452 - val_loss: 0.3677 - val_accuracy: 0.8587\n"
          ],
          "name": "stdout"
        }
      ]
    },
    {
      "cell_type": "markdown",
      "metadata": {
        "id": "35EkNnXV09Un"
      },
      "source": [
        "Mais attendez... **pourquoi entraînons-nous notre modèle si BERT est déjà préentraîné ?**\n",
        "\n",
        "Effectivement, **les poids des neurones de BERT** sont entraînés mais pas **les poids des nouvelles couches !**\n",
        "\n",
        "Il faut donc effectuer **un entraînement sur tout le modèle**. Les nouvelles couches vont alors **s'adapter aux poids de BERT**.\n",
        "\n",
        "C'est ce qu'on appelle le **Transfer Learning**, cette technique est largement répandu dans le Machine Learning car elle permet **d'adapter des modèles** déjà entraînés à de **nouveaux problème**.\n",
        "\n",
        "En fait, **Google a entraîner BERT** sur de nombreuses données pendant des heures. Le Transfer Learning permet de **poursuivre cet entraînement sur nos données**, tout en nous évitant les heures d'apprentissage déjà effectué !"
      ]
    },
    {
      "cell_type": "markdown",
      "metadata": {
        "id": "vYyE-58hz2eg"
      },
      "source": [
        "## **Utiliser BERT**"
      ]
    },
    {
      "cell_type": "markdown",
      "metadata": {
        "id": "vKal9JuU6RC5"
      },
      "source": [
        "Notre **BERT est entraîné** pour la classification binaire !\n",
        "\n",
        "On peut donc l'évaluer avec **nos données de test :**"
      ]
    },
    {
      "cell_type": "code",
      "metadata": {
        "id": "ce2fzXrOsL4D",
        "colab": {
          "base_uri": "https://localhost:8080/"
        },
        "outputId": "952ec3fa-c245-4e45-f6ce-01e0d38f88fb"
      },
      "source": [
        "model.evaluate(test_input, test_labels)"
      ],
      "execution_count": null,
      "outputs": [
        {
          "output_type": "stream",
          "text": [
            "157/157 [==============================] - 34s 215ms/step - loss: 0.3863 - accuracy: 0.8474\n"
          ],
          "name": "stdout"
        },
        {
          "output_type": "execute_result",
          "data": {
            "text/plain": [
              "[0.3863307535648346, 0.8474000096321106]"
            ]
          },
          "metadata": {
            "tags": []
          },
          "execution_count": 17
        }
      ]
    },
    {
      "cell_type": "markdown",
      "metadata": {
        "id": "ZQlHG15y6eNd"
      },
      "source": [
        "**Une loss de 0.38** et **une précision 0.84**, c'est plutôt pas mal.. même **très bon** vu le nombre de données que l'on a !"
      ]
    },
    {
      "cell_type": "markdown",
      "metadata": {
        "id": "BtEpHoCW61pp"
      },
      "source": [
        "Essayons avec **nos propres phrases**.\n",
        "\n",
        "Commençons avec un exemple facile \"*J'ai aimé ce film*\" :"
      ]
    },
    {
      "cell_type": "code",
      "metadata": {
        "id": "aQuN4h7oMM5h",
        "colab": {
          "base_uri": "https://localhost:8080/"
        },
        "outputId": "39d752a9-5e29-49a9-ceca-97324ff38cd5"
      },
      "source": [
        "model.predict(bert_encode([\"I liked this movie\"], tokenizer, max_len=100))"
      ],
      "execution_count": null,
      "outputs": [
        {
          "output_type": "execute_result",
          "data": {
            "text/plain": [
              "array([[0.63292855]], dtype=float32)"
            ]
          },
          "metadata": {
            "tags": []
          },
          "execution_count": 25
        }
      ]
    },
    {
      "cell_type": "markdown",
      "metadata": {
        "id": "_dzdomaX6_yz"
      },
      "source": [
        "BERT juge notre phrase positive avec **précision de 0.63**. Il n'a pas l'air très sûr de lui alors **la phrase semble pourtant évidente**.\n",
        "\n",
        "Essayons avec une phrase un peu plus complexe \"*Tout était parfait, sauf le film !*\"."
      ]
    },
    {
      "cell_type": "code",
      "metadata": {
        "id": "6FQW9aoOgMzz",
        "colab": {
          "base_uri": "https://localhost:8080/"
        },
        "outputId": "490545fe-0d58-41a6-8ca1-2eb8057841bb"
      },
      "source": [
        "model.predict(bert_encode([\"Everything was fine but not the movie !\"], tokenizer, max_len=100))"
      ],
      "execution_count": null,
      "outputs": [
        {
          "output_type": "execute_result",
          "data": {
            "text/plain": [
              "array([[0.0498449]], dtype=float32)"
            ]
          },
          "metadata": {
            "tags": []
          },
          "execution_count": 22
        }
      ]
    },
    {
      "cell_type": "markdown",
      "metadata": {
        "id": "uGMkIP8z7djQ"
      },
      "source": [
        "Ici **BERT** est sûr à presque **100%** que la phrase parle négativement du film, comme quoi, **cela dépend vraiment de l'input qu'on lui donne !**"
      ]
    },
    {
      "cell_type": "markdown",
      "metadata": {
        "id": "8Qmt7GPk6FaX"
      },
      "source": [
        "Finalement, on peut **sauvegarder le BERT adapté à nos données :**"
      ]
    },
    {
      "cell_type": "code",
      "metadata": {
        "id": "X74uxZQW1GuZ"
      },
      "source": [
        "model.save('/content/model.h5')"
      ],
      "execution_count": null,
      "outputs": []
    },
    {
      "cell_type": "markdown",
      "metadata": {
        "id": "nliXcI5K6Hyv"
      },
      "source": [
        "Et voilà le code pour le **charger dans un autre programme sans avoir à le réentraîner :**"
      ]
    },
    {
      "cell_type": "code",
      "metadata": {
        "id": "7nFKutPIhZgx"
      },
      "source": [
        "#from tensorflow import keras\n",
        "#model = keras.models.load_model('/content/model.h5')"
      ],
      "execution_count": null,
      "outputs": []
    }
  ]
}